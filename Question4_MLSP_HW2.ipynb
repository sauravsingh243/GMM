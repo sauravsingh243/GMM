{
  "cells": [
    {
      "cell_type": "code",
      "source": [
        "from google.colab import drive\n",
        "drive.mount('/content/drive/')"
      ],
      "metadata": {
        "colab": {
          "base_uri": "https://localhost:8080/"
        },
        "id": "Uqt4JL22-hTF",
        "outputId": "70bd905a-1a21-43a7-c0f6-dab6e3ecc1d9"
      },
      "execution_count": 238,
      "outputs": [
        {
          "output_type": "stream",
          "name": "stdout",
          "text": [
            "Drive already mounted at /content/drive/; to attempt to forcibly remount, call drive.mount(\"/content/drive/\", force_remount=True).\n"
          ]
        }
      ]
    },
    {
      "cell_type": "markdown",
      "source": [
        "Importing Required Libraries"
      ],
      "metadata": {
        "id": "931wDG9Civcm"
      }
    },
    {
      "cell_type": "code",
      "execution_count": 239,
      "metadata": {
        "colab": {
          "base_uri": "https://localhost:8080/"
        },
        "id": "VvgfI7lr9egP",
        "outputId": "1023a0a2-e1ff-41ac-c625-b46fab2c7766"
      },
      "outputs": [
        {
          "output_type": "stream",
          "name": "stdout",
          "text": [
            "[nltk_data] Downloading package stopwords to /root/nltk_data...\n",
            "[nltk_data]   Package stopwords is already up-to-date!\n",
            "[nltk_data] Downloading package punkt to /root/nltk_data...\n",
            "[nltk_data]   Package punkt is already up-to-date!\n"
          ]
        },
        {
          "output_type": "execute_result",
          "data": {
            "text/plain": [
              "True"
            ]
          },
          "metadata": {},
          "execution_count": 239
        }
      ],
      "source": [
        "import numpy as np\n",
        "from nltk.tokenize import word_tokenize\n",
        "import pandas as pd\n",
        "import glob \n",
        "import librosa\n",
        "from sklearn.decomposition import PCA \n",
        "import imageio\n",
        "import matplotlib.pyplot as plt\n",
        "from matplotlib.figure import Figure\n",
        "from scipy.stats import multivariate_normal\n",
        "import nltk\n",
        "nltk.download('stopwords')\n",
        "nltk.download('punkt')"
      ]
    },
    {
      "cell_type": "markdown",
      "source": [
        "Loading Movie Reviews"
      ],
      "metadata": {
        "id": "dJhsjO05izwu"
      }
    },
    {
      "cell_type": "code",
      "execution_count": 240,
      "metadata": {
        "id": "vhC_r2tb9egQ"
      },
      "outputs": [],
      "source": [
        "path = open('drive/MyDrive/Data/movieReviews.txt','r')\n",
        "textFile = path.readlines()"
      ]
    },
    {
      "cell_type": "markdown",
      "source": [
        "Extracting the lables(0 or 1) from given reviews"
      ],
      "metadata": {
        "id": "grIfzbiLi3zg"
      }
    },
    {
      "cell_type": "code",
      "execution_count": 241,
      "metadata": {
        "id": "y8r5jtLU9egQ"
      },
      "outputs": [],
      "source": [
        "labels = []\n",
        "for i in textFile:\n",
        "  i = i.strip()\n",
        "  var = i.split(\"\\t\")\n",
        "  labels.append(int(var[1]))\n",
        "copyOfLables = []\n",
        "for i in labels:\n",
        "  copyOfLables.append(i)\n",
        "labels = np.array(labels)\n"
      ]
    },
    {
      "cell_type": "code",
      "execution_count": 242,
      "metadata": {
        "id": "SuhEnGzj9egR"
      },
      "outputs": [],
      "source": [
        "reviews = []\n",
        "wordSet = set()\n",
        "\n",
        "for line in textFile:\n",
        "  x = []\n",
        "  for i in word_tokenize(line):\n",
        "    i = i.lower()\n",
        "    if(i.isalpha()):\n",
        "      x.append(i)\n",
        "  reviews.append(x)\n",
        "  for token in x:\n",
        "    if token not in wordSet:\n",
        "      wordSet.add(token)\n",
        "\n",
        "totalDocument = len(reviews)\n"
      ]
    },
    {
      "cell_type": "code",
      "source": [
        "def getIndex(wordset):\n",
        "  index = dict()\n",
        "  itr = 0\n",
        "  for i in wordSet:\n",
        "    index[i] = itr\n",
        "    itr += 1\n",
        "  return index"
      ],
      "metadata": {
        "id": "uOhs9L81Xprj"
      },
      "execution_count": 243,
      "outputs": []
    },
    {
      "cell_type": "code",
      "execution_count": 244,
      "metadata": {
        "colab": {
          "base_uri": "https://localhost:8080/"
        },
        "id": "GwCjF7Hw9egR",
        "outputId": "c09725a0-3358-4df4-c17d-bc6e6b785b42"
      },
      "outputs": [
        {
          "output_type": "execute_result",
          "data": {
            "text/plain": [
              "3008"
            ]
          },
          "metadata": {},
          "execution_count": 244
        }
      ],
      "source": [
        "index = getIndex(wordSet)\n",
        "len(index)"
      ]
    },
    {
      "cell_type": "code",
      "source": [
        "def getWordCount(wordset, reviewList):\n",
        "  wordCount = dict()\n",
        "  for i in wordSet:\n",
        "    wordCount[i] = 0\n",
        "    for j in reviews:\n",
        "      if i in j:\n",
        "        wordCount[i] +=1\n",
        "  return wordCount"
      ],
      "metadata": {
        "id": "AtM4exAYXDjE"
      },
      "execution_count": 245,
      "outputs": []
    },
    {
      "cell_type": "code",
      "execution_count": 246,
      "metadata": {
        "colab": {
          "base_uri": "https://localhost:8080/"
        },
        "id": "gzF4S5wS9egR",
        "outputId": "32afe84e-f65e-4af2-e2f5-f4d9f8acb730"
      },
      "outputs": [
        {
          "output_type": "stream",
          "name": "stdout",
          "text": [
            "3008\n"
          ]
        }
      ],
      "source": [
        "wordCount = getWordCount(wordSet, reviews)\n",
        "\n",
        "print(len(wordCount))"
      ]
    },
    {
      "cell_type": "markdown",
      "source": [
        "Calculating 'TermFrequency', 'InverseDocumentFrequency', and 'TermFrequency-InverseDocumentFrequency'"
      ],
      "metadata": {
        "id": "I4L0tdURjAjz"
      }
    },
    {
      "cell_type": "code",
      "execution_count": 247,
      "metadata": {
        "id": "DvGkAVX29egS"
      },
      "outputs": [],
      "source": [
        "def termFreq(document,token):\n",
        "  ans = []\n",
        "  for i in document:\n",
        "    if(i == token):\n",
        "      ans.append(i)\n",
        "  return len(ans)/len(document)\n",
        "\n",
        "def idf(token):\n",
        "  try:\n",
        "    wordFrequency = wordCount[token] + 1\n",
        "  except:\n",
        "    wordFrequency = 1\n",
        "  return np.log(1000/wordFrequency)\n",
        "\n",
        "def tf_idf(doc):\n",
        "  tf_idf = np.zeros((len(wordSet),))\n",
        "  for token in doc:\n",
        "    tf_idf[index[token]] = termFreq(doc,token) * idf(token)\n",
        "  return tf_idf\n",
        "\n",
        "    \n"
      ]
    },
    {
      "cell_type": "markdown",
      "source": [
        "Calculating TF-IDF vector"
      ],
      "metadata": {
        "id": "xM83e5M8jRBe"
      }
    },
    {
      "cell_type": "code",
      "source": [
        "def getTfIdfVectore(reviews):\n",
        "  tv = []\n",
        "  for i in reviews:\n",
        "    t = tf_idf(i)\n",
        "    tv.append(t)\n",
        "  return tv"
      ],
      "metadata": {
        "id": "7gF6MOYhaN_i"
      },
      "execution_count": 248,
      "outputs": []
    },
    {
      "cell_type": "code",
      "execution_count": 249,
      "metadata": {
        "colab": {
          "base_uri": "https://localhost:8080/"
        },
        "id": "nWMM9tXg9egS",
        "outputId": "9bf45bc5-197b-4332-d0fb-2af465407931"
      },
      "outputs": [
        {
          "output_type": "stream",
          "name": "stdout",
          "text": [
            "1000\n"
          ]
        }
      ],
      "source": [
        "TFIDFVector = getTfIdfVectore(reviews)\n",
        "print(len(TFIDFVector))\n",
        "TFIDFVector = np.array(TFIDFVector)"
      ]
    },
    {
      "cell_type": "code",
      "execution_count": 250,
      "metadata": {
        "id": "YUh__Mba9egT"
      },
      "outputs": [],
      "source": [
        "features = np.array(np.mean(TFIDFVector, axis=1))"
      ]
    },
    {
      "cell_type": "markdown",
      "source": [
        "Applying PCA"
      ],
      "metadata": {
        "id": "F_Iaunk6jcLX"
      }
    },
    {
      "cell_type": "code",
      "execution_count": 251,
      "metadata": {
        "id": "1x4hbIrw9egT"
      },
      "outputs": [],
      "source": [
        "pca = PCA(n_components = 10)\n",
        "reducedTFIDFVector = pca.fit_transform(TFIDFVector)\n",
        "reducedTFIDFVector = np.array(reducedTFIDFVector)"
      ]
    },
    {
      "cell_type": "code",
      "source": [
        "plt.scatter(reducedTFIDFVector[:,-1],reducedTFIDFVector[:,-2])\n",
        "plt.show()"
      ],
      "metadata": {
        "colab": {
          "base_uri": "https://localhost:8080/",
          "height": 265
        },
        "id": "-ZXi203G59Rh",
        "outputId": "52d1b604-16bc-44ed-a115-ae18cdfc0c7a"
      },
      "execution_count": 252,
      "outputs": [
        {
          "output_type": "display_data",
          "data": {
            "image/png": "[encoded data removed]",
            "text/plain": [
              "<Figure size 432x288 with 1 Axes>"
            ]
          },
          "metadata": {
            "needs_background": "light"
          }
        }
      ]
    },
    {
      "cell_type": "markdown",
      "source": [
        "K-Mean"
      ],
      "metadata": {
        "id": "lr7r6Ps-jeMy"
      }
    },
    {
      "cell_type": "code",
      "source": [
        "class KMean:\n",
        "  def __init__(self, numberOfClusters , numberOfIteration = 1000):\n",
        "    self.numberOfClusters = numberOfClusters\n",
        "    self.numberOfIteration = numberOfIteration\n",
        "    self.centers = None  \n",
        "\n",
        "\n",
        "\n",
        "  def KMeanfit(self, musicFrames):\n",
        "    it=0\n",
        "    self.centers = musicFrames[np.random.choice(np.arange(len(musicFrames)), size = self.numberOfClusters)]\n",
        "    for _ in range(self.numberOfIteration):\n",
        "      it+=1\n",
        "      distanceMatrix = np.zeros((len(musicFrames), self.numberOfClusters))\n",
        "      for i in  range(self.numberOfClusters):\n",
        "        distanceMatrix[:, i] = self.euclideanDistance(musicFrames, self.centers[i]) \n",
        "      clusterAssignment = distanceMatrix.argmin(axis=1)\n",
        "      newCenters = np.zeros_like(self.centers)\n",
        "      for i in range(self.numberOfClusters):\n",
        "        newCenters[i] = np.mean(musicFrames[clusterAssignment == i], axis=0)\n",
        "      if np.allclose(newCenters, self.centers):\n",
        "        self.centers = newCenters\n",
        "        break\n",
        "      self.centers = newCenters\n",
        "    print(it)\n",
        "    return self.centers\n",
        "          \n",
        "  def KMeanpredict(self, musicFrames):\n",
        "    distanceMatrix = np.zeros((len(musicFrames), self.numberOfClusters))\n",
        "    for i in range(self.numberOfClusters):\n",
        "      distanceMatrix[:, i] = self.euclideanDistance(musicFrames, self.centers[i]) \n",
        "    clusterAssignment = distanceMatrix.argmin(axis=1)\n",
        "    return clusterAssignment\n",
        "\n",
        "  def euclideanDistance(self, pointA, pointB):\n",
        "    return np.sqrt(np.sum((pointA - pointB) ** 2, axis=1))"
      ],
      "metadata": {
        "id": "A1c_77JNcZBi"
      },
      "execution_count": 253,
      "outputs": []
    },
    {
      "cell_type": "markdown",
      "source": [
        "GMM"
      ],
      "metadata": {
        "id": "L95X8mfqjgWB"
      }
    },
    {
      "cell_type": "code",
      "source": [
        "# numberOfMixtures = 2\n",
        "# totalIterations = 50\n",
        "# global alpha # = np.ones(numberOfMixtures) / numberOfMixtures\n",
        "# logLikeliHoodList = []\n",
        "# mv = KMeanfit(musicFrames)\n",
        "# covariance = np.zeros((numberOfMixtures, musicFrames.shape[1], musicFrames.shape[1]))\n",
        "# clusters = [f\"cluster{i}\" for i in range(numberOfMixtures)]\n",
        "# alpha = np.ones(numberOfMixtures) / numberOfMixtures\n",
        "class GMM:\n",
        "  def __init__(self, numberOfMixtures, clusters = None, totalIterations = 1000, covarianceFlag = True):\n",
        "    self.numberOfMixtures = numberOfMixtures\n",
        "    self.totalIterations = totalIterations\n",
        "    self.logLikeliHoodList = []\n",
        "    self.covarianceFlag = covarianceFlag\n",
        "    if clusters == None:\n",
        "      temp = []\n",
        "      for i in range(0, self.numberOfMixtures):\n",
        "        temp.append(\"cluster\" + str(i))\n",
        "      self.cluster = temp\n",
        "      # self.clusters = [f\"cluster{index}\" for index in range(self.numberOfMixtures)]\n",
        "    else:\n",
        "      self.clusters = clusters\n",
        "    self.alpha = np.ones(numberOfMixtures) / numberOfMixtures\n",
        "    \n",
        "    \n",
        "\n",
        "  def multivariateNormal(self, musicFrames, mean, covariance):\n",
        "    a = multivariate_normal(mean=mean, cov=covariance, allow_singular=True)\n",
        "    return a.pdf(musicFrames)\n",
        "\n",
        "\n",
        "  def logLikelihood(self, musicFrames):\n",
        "    # alpha = np.ones(numberOfMixtures) / numberOfMixtures\n",
        "    p = np.zeros((len(musicFrames), self.numberOfMixtures))\n",
        "    for i in range(self.numberOfMixtures):\n",
        "      p[:, i] = self.alpha[i] * multivariate_normal(self.mv[i], self.covariance[i], allow_singular=True).pdf(musicFrames)\n",
        "      # probs[:, i] = self.alphas[i] * self.p(data, self.means[i], self.covs[i])\n",
        "      # p.append([multivariate_normal(mv[k], covariance[k]).pdf(musicFrames[n]) for k in range(numberOfMixtures)])\n",
        "    likeliHood = np.sum(np.log(p.sum(axis=1)))\n",
        "    return likeliHood\n",
        "\n",
        "\n",
        "  def GMMfit(self, musicFrames):\n",
        "    flag = 0\n",
        "    # alpha = np.ones(numberOfMixtures) / numberOfMixtures\n",
        "    KMeanObject = KMean(numberOfClusters = self.numberOfMixtures)\n",
        "    self.mv = KMeanObject.KMeanfit(musicFrames)\n",
        "    self.covariance = np.zeros((self.numberOfMixtures, musicFrames.shape[1], musicFrames.shape[1]))\n",
        "    predictionKMean = KMeanObject.KMeanpredict(musicFrames)\n",
        "    for i in range(self.numberOfMixtures):\n",
        "      self.covariance[i] = np.cov(musicFrames[predictionKMean == i].T)\n",
        "    for _ in range(self.totalIterations):\n",
        "\n",
        "\n",
        "      self.temp = np.zeros((len(musicFrames), self.numberOfMixtures)) \n",
        "      # print(_)\n",
        "      for i in range(self.numberOfMixtures):\n",
        "        self.temp[:,i] = self.alpha[i] * (multivariate_normal(self.mv[i], self.covariance[i], allow_singular=True).pdf(musicFrames))\n",
        "      self.logLikeliHoodList.append(np.sum(np.log(self.temp.sum(axis=1))))\n",
        "      self.temp = self.temp / self.temp.sum(axis=1)[:, None]\n",
        "      # self.logLikeliHoodList.append(np.sum(np.log(self.temp.sum(axis=1))))\n",
        "\n",
        "      #Printing at every 5 reps\n",
        "      if _ %2 ==0:          \n",
        "        print(\"Scatter plot for iteration \", _)\n",
        "        plt.scatter(musicFrames[self.temp[:,0]> self.temp[:,1],0],musicFrames[self.temp[:,0]> self.temp[:,1],1], color='b')\n",
        "        plt.scatter(musicFrames[self.temp[:,0]<= self.temp[:,1],0],musicFrames[self.temp[:,0]<= self.temp[:,1],1], color='r')\n",
        "        plt.xlim(-4,4,10)\n",
        "        plt.ylim(-4,4,10)      \n",
        "        plt.show()\n",
        "\n",
        "\n",
        "      tmv = np.zeros_like(self.mv)\n",
        "      for i in range(self.numberOfMixtures):\n",
        "        tmv[i] = np.multiply(self.temp[:, i][:, None], musicFrames).sum(axis=0) / self.temp[: , i].sum()\n",
        "      omv = self.mv\n",
        "      self.mv = tmv\n",
        "      covarinaceOld = self.covariance\n",
        "      \n",
        "      if(self.covarianceFlag == True):\n",
        "        diagonalCovarinace = ((np.dot((self.temp.T), (musicFrames * musicFrames)) / self.temp.sum(axis=0)[:, None]) \n",
        "                              - 2 \n",
        "                              * (self.mv * np.dot(self.temp.T, musicFrames) / self.temp.sum(axis=0)[:, None]) \n",
        "                              + (self.mv * self.mv) + 1e-6)\n",
        "        self.covariance = [np.diag(c) for c in diagonalCovarinace]\n",
        "      else:\n",
        "        covarinaceNew = np.zeros_like(self.covariance)\n",
        "        for i in range(self.numberOfMixtures):\n",
        "          covarinaceNew[i] = np.dot(self.temp[:, i] * (musicFrames - self.mv[i]).T, (musicFrames - self.mv[i])) / self.temp[:, i].sum()    \n",
        "          covarinaceNew[i].flat[::musicFrames.shape[1] + 1] += 1e-6\n",
        "          self.covariance[i] = covarinaceNew[i]\n",
        "\n",
        "      alphaOld = self.alpha\n",
        "      self.alpha = self.temp.mean(axis=0)\n",
        "\n",
        "      if np.allclose(self.alpha, alphaOld, rtol=1e-3, atol = 1e-3) and \\\n",
        "        np.allclose(self.covariance, covarinaceOld, rtol=1e-3, atol = 1e-3) and\\\n",
        "        np.allclose(self.mv, omv, rtol=1e-3, atol = 1e-3):\n",
        "       \n",
        "        break\n",
        "\n",
        "  def GMMpredict(self, musicFrames):\n",
        "    pos = []\n",
        "    result = []\n",
        "    for n in range(len(musicFrames)):\n",
        "      pos.append([multivariate_normal(self.mv[k], self.covariance[k], allow_singular=True).pdf(musicFrames[n]) for k in range(self.numberOfMixtures)])  \n",
        "    for p in pos:\n",
        "      result.append(self.clusters[p.index(max(p))])\n",
        "    return result\n"
      ],
      "metadata": {
        "id": "Gx1DYYD6cu-z"
      },
      "execution_count": 254,
      "outputs": []
    },
    {
      "cell_type": "markdown",
      "source": [
        "Two Mixture Model of Reduced Data with Diagonal Covariance"
      ],
      "metadata": {
        "id": "kow8TgLsjiZj"
      }
    },
    {
      "cell_type": "code",
      "execution_count": 255,
      "metadata": {
        "colab": {
          "base_uri": "https://localhost:8080/",
          "height": 1000
        },
        "id": "9Y0eHh6Q9egW",
        "outputId": "a0d610f9-912d-4f6a-c556-32729a55d6fb"
      },
      "outputs": [
        {
          "output_type": "stream",
          "name": "stdout",
          "text": [
            "5\n",
            "Scatter plot for iteration  0\n"
          ]
        },
        {
          "output_type": "display_data",
          "data": {
            "image/png": "[encoded data removed]",
            "text/plain": [
              "<Figure size 432x288 with 1 Axes>"
            ]
          },
          "metadata": {
            "needs_background": "light"
          }
        },
        {
          "output_type": "stream",
          "name": "stdout",
          "text": [
            "Scatter plot for iteration  2\n"
          ]
        },
        {
          "output_type": "display_data",
          "data": {
            "image/png": "[encoded data removed]",
            "text/plain": [
              "<Figure size 432x288 with 1 Axes>"
            ]
          },
          "metadata": {
            "needs_background": "light"
          }
        },
        {
          "output_type": "stream",
          "name": "stdout",
          "text": [
            "Scatter plot for iteration  4\n"
          ]
        },
        {
          "output_type": "display_data",
          "data": {
            "image/png": "[encoded data removed]",
            "text/plain": [
              "<Figure size 432x288 with 1 Axes>"
            ]
          },
          "metadata": {
            "needs_background": "light"
          }
        },
        {
          "output_type": "stream",
          "name": "stdout",
          "text": [
            "Scatter plot for iteration  6\n"
          ]
        },
        {
          "output_type": "display_data",
          "data": {
            "image/png": "[encoded data removed]",
            "text/plain": [
              "<Figure size 432x288 with 1 Axes>"
            ]
          },
          "metadata": {
            "needs_background": "light"
          }
        },
        {
          "output_type": "stream",
          "name": "stdout",
          "text": [
            "Scatter plot for iteration  8\n"
          ]
        },
        {
          "output_type": "display_data",
          "data": {
            "image/png": "[encoded data removed]",
            "text/plain": [
              "<Figure size 432x288 with 1 Axes>"
            ]
          },
          "metadata": {
            "needs_background": "light"
          }
        },
        {
          "output_type": "stream",
          "name": "stdout",
          "text": [
            "Scatter plot for iteration  10\n"
          ]
        },
        {
          "output_type": "display_data",
          "data": {
            "image/png": "[encoded data removed]",
            "text/plain": [
              "<Figure size 432x288 with 1 Axes>"
            ]
          },
          "metadata": {
            "needs_background": "light"
          }
        },
        {
          "output_type": "stream",
          "name": "stdout",
          "text": [
            "Scatter plot for iteration  12\n"
          ]
        },
        {
          "output_type": "display_data",
          "data": {
            "image/png": "[encoded data removed]",
            "text/plain": [
              "<Figure size 432x288 with 1 Axes>"
            ]
          },
          "metadata": {
            "needs_background": "light"
          }
        },
        {
          "output_type": "stream",
          "name": "stdout",
          "text": [
            "Scatter plot for iteration  14\n"
          ]
        },
        {
          "output_type": "display_data",
          "data": {
            "image/png": "[encoded data removed]",
            "text/plain": [
              "<Figure size 432x288 with 1 Axes>"
            ]
          },
          "metadata": {
            "needs_background": "light"
          }
        }
      ],
      "source": [
        "gmmObject = GMM(2)\n",
        "gmmObject.GMMfit(reducedTFIDFVector)"
      ]
    },
    {
      "cell_type": "markdown",
      "source": [
        "Predicting the lables"
      ],
      "metadata": {
        "id": "F-S1fXRcjsIu"
      }
    },
    {
      "cell_type": "code",
      "execution_count": 256,
      "metadata": {
        "id": "vaalEQ8n9egW"
      },
      "outputs": [],
      "source": [
        "prediction = []\n",
        "for i in range(0, len(reviews)):\n",
        "  if(gmmObject.temp[i,0] > gmmObject.temp[i,1]):\n",
        "    prediction.append(1)\n",
        "  else:\n",
        "    prediction.append(0)\n",
        "prediction = np.array(prediction)"
      ]
    },
    {
      "cell_type": "markdown",
      "source": [
        "Calculating the accuracy"
      ],
      "metadata": {
        "id": "70q5AnWhjuTw"
      }
    },
    {
      "cell_type": "code",
      "source": [
        "correctnessCount = 0;\n",
        "for i in range(0, len(copyOfLables)):\n",
        "  if(copyOfLables[i] == prediction[i]):\n",
        "    correctnessCount += 1\n",
        "print(correctnessCount)"
      ],
      "metadata": {
        "colab": {
          "base_uri": "https://localhost:8080/"
        },
        "id": "h5eLUQWcencK",
        "outputId": "532263a4-31b4-4409-9a18-85a815655b55"
      },
      "execution_count": 257,
      "outputs": [
        {
          "output_type": "stream",
          "name": "stdout",
          "text": [
            "532\n"
          ]
        }
      ]
    }
  ],
  "metadata": {
    "interpreter": {
      "hash": "0c344af6ab7f5a20569e976b36e407da08e1610624a5b499bd9b47ddab2a2283"
    },
    "kernelspec": {
      "display_name": "Python 3.7.6 ('base')",
      "language": "python",
      "name": "python3"
    },
    "language_info": {
      "codemirror_mode": {
        "name": "ipython",
        "version": 3
      },
      "file_extension": ".py",
      "mimetype": "text/x-python",
      "name": "python",
      "nbconvert_exporter": "python",
      "pygments_lexer": "ipython3",
      "version": "3.7.6"
    },
    "orig_nbformat": 4,
    "colab": {
      "name": "Question4_MLSP_HW2.ipynb",
      "provenance": []
    }
  },
  "nbformat": 4,
  "nbformat_minor": 0
}